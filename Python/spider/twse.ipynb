{
 "cells": [
  {
   "cell_type": "code",
   "execution_count": 35,
   "metadata": {},
   "outputs": [
    {
     "name": "stdout",
     "output_type": "stream",
     "text": [
      "Mozilla/5.0 (compatible; MSIE 8.0; Windows NT 5.1; Trident/4.0; SLCC1; .NET CLR 3.0.4506.2152; .NET CLR 3.5.30729; .NET CLR 1.1.4322)\n"
     ]
    }
   ],
   "source": [
    "from selenium import webdriver\n",
    "from selenium.webdriver.support.ui import Select\n",
    "from selenium.webdriver.common.keys import Keys\n",
    "import time, random\n",
    "from fake_useragent import UserAgent\n",
    "\n",
    "fake_user = UserAgent().random\n",
    "print(fake_user)\n",
    "sleep = random.uniform(4,6)\n",
    "url = \"https://www.twse.com.tw/zh/page/trading/exchange/STOCK_DAY_AVG.html\"\n",
    "options = webdriver.ChromeOptions()\n",
    "options.add_argument(\"User-Agent=\"+fake_user)\n",
    "options.add_argument(\"Connection=close\")\n",
    "driver = webdriver.Chrome( chrome_options=options,\n",
    "                          executable_path=\"./chromedriver\")\n",
    "\n",
    "driver.get(url)\n",
    "time.sleep(sleep)"
   ]
  },
  {
   "cell_type": "code",
   "execution_count": 36,
   "metadata": {},
   "outputs": [],
   "source": [
    "time.sleep(sleep)\n",
    "s = driver.find_element_by_css_selector(\"#d1 > select:nth-child(2)\")\n",
    "Select(s).select_by_value(\"6\")\n",
    "time.sleep(sleep)"
   ]
  },
  {
   "cell_type": "code",
   "execution_count": 37,
   "metadata": {},
   "outputs": [],
   "source": [
    "stuck_input = driver.find_element_by_css_selector(\"#main-form > div > div > form > input\")\n",
    "stuck_input.send_keys(\"0050\")\n",
    "time.sleep(sleep)"
   ]
  },
  {
   "cell_type": "code",
   "execution_count": 38,
   "metadata": {},
   "outputs": [],
   "source": [
    "search = driver.find_element_by_css_selector(\"#main-form > div > div > form > a.button.search\")\n",
    "search.click()"
   ]
  },
  {
   "cell_type": "code",
   "execution_count": null,
   "metadata": {},
   "outputs": [],
   "source": [
    "df = pd.read_html(driver.page_source)"
   ]
  },
  {
   "cell_type": "code",
   "execution_count": 40,
   "metadata": {},
   "outputs": [],
   "source": [
    "from bs4 import BeautifulSoup as bs\n",
    "time.sleep(sleep)\n",
    "soup = bs(driver.page_source, \"html.parser\")"
   ]
  },
  {
   "cell_type": "code",
   "execution_count": 47,
   "metadata": {
    "scrolled": true
   },
   "outputs": [],
   "source": [
    "td0_c = []\n",
    "td1_c = []\n",
    "for tr in soup.find(\"table\").find(\"tbody\").find_all(\"tr\"):\n",
    "    tds = tr.find_all(\"td\")\n",
    "#     print(\"日期: \"+tds[0].text, \"收盤價: \"+tds[1].text)\n",
    "    td0_c.append(tds[0].text)\n",
    "    td1_c.append(tds[1].text)"
   ]
  },
  {
   "cell_type": "code",
   "execution_count": 60,
   "metadata": {},
   "outputs": [],
   "source": [
    "import pandas as pd\n",
    "\n",
    "# method 1\n",
    "stock_d_c = {\"日期\":td0_c,\"收盤價\":td1_c}\n",
    "df_c1 = pd.DataFrame(stock_d_c)\n",
    "\n",
    "# method 2\n",
    "df_c2 = pd.DataFrame()\n",
    "df_c2[\"日期\"] = td0_c\n",
    "df_c2[\"收盤價\"] = td1_c"
   ]
  },
  {
   "cell_type": "code",
   "execution_count": 68,
   "metadata": {},
   "outputs": [],
   "source": [
    "# method 3\n",
    "td_r = {}\n",
    "for i,tr in enumerate(soup.find(\"table\").find(\"tbody\").find_all(\"tr\")):\n",
    "    tds = tr.find_all(\"td\")\n",
    "#     print(\"日期: \"+tds[0].text, \"收盤價: \"+tds[1].text)\n",
    "    td_r[i]=[tds[0].text, tds[1].text]\n",
    "\n",
    "stock_c = [\"日期\",\"收盤價\"]"
   ]
  },
  {
   "cell_type": "code",
   "execution_count": 69,
   "metadata": {
    "scrolled": true
   },
   "outputs": [],
   "source": [
    "df_r = pd.DataFrame.from_dict(td_r, orient='index',\n",
    "                                   columns=stock_c)\n"
   ]
  },
  {
   "cell_type": "code",
   "execution_count": 44,
   "metadata": {},
   "outputs": [],
   "source": [
    "driver.quit()"
   ]
  },
  {
   "cell_type": "code",
   "execution_count": 107,
   "metadata": {},
   "outputs": [
    {
     "name": "stdout",
     "output_type": "stream",
     "text": [
      "109-06-01 84.90\n",
      "109-06-02 85.30\n",
      "109-06-03 86.80\n",
      "109-06-04 87.60\n",
      "109-06-05 88.35\n",
      "109-06-08 89.50\n",
      "109-06-09 89.60\n",
      "109-06-10 90.45\n",
      "109-06-11 89.05\n",
      "109-06-12 88.25\n",
      "109-06-15 87.00\n",
      "109-06-16 88.90\n",
      "109-06-17 89.00\n",
      "109-06-18 88.90\n",
      "109-06-19 88.85\n",
      "109-06-22 89.05\n",
      "109-06-23 89.45\n",
      "109-06-24 90.00\n",
      "109-06-29 89.10\n",
      "109-06-30 89.90\n"
     ]
    }
   ],
   "source": [
    "\n",
    "    "
   ]
  },
  {
   "cell_type": "code",
   "execution_count": 136,
   "metadata": {},
   "outputs": [
    {
     "data": {
      "text/html": [
       "<div>\n",
       "<style scoped>\n",
       "    .dataframe tbody tr th:only-of-type {\n",
       "        vertical-align: middle;\n",
       "    }\n",
       "\n",
       "    .dataframe tbody tr th {\n",
       "        vertical-align: top;\n",
       "    }\n",
       "\n",
       "    .dataframe thead th {\n",
       "        text-align: right;\n",
       "    }\n",
       "</style>\n",
       "<table border=\"1\" class=\"dataframe\">\n",
       "  <thead>\n",
       "    <tr style=\"text-align: right;\">\n",
       "      <th></th>\n",
       "    </tr>\n",
       "  </thead>\n",
       "  <tbody>\n",
       "  </tbody>\n",
       "</table>\n",
       "</div>"
      ],
      "text/plain": [
       "Empty DataFrame\n",
       "Columns: []\n",
       "Index: []"
      ]
     },
     "execution_count": 136,
     "metadata": {},
     "output_type": "execute_result"
    }
   ],
   "source": [
    "# import pymysql\n",
    "# import pandas as pd\n",
    "\n",
    "# ip = \"192.168.56.102\"\n",
    "# user = \"harold\"\n",
    "# pw = \"123456\"\n",
    "# db = \"testdb1\"\n",
    "# sql = \"\"\"\n",
    "#     select * from YT;\n",
    "# \"\"\"\n",
    "# sql_insert = \"insert into YT values({}, '{}', {});\"\n",
    "\n",
    "# def pymysqlcon(ip, user, pw, db ,sql):\n",
    "#     db = pymysql.connect(ip, user, pw, db)\n",
    "#     cursor = db.cursor(pymysql.cursors.DictCursor)#拿到dict\n",
    "# #     cursor.execute(\"insert into YT values(0, 109-06-01, 84.90);\")\n",
    "\n",
    "# #     save data to YT (id ,date, cp)   (int, date, float)\n",
    "#     for i in range(df_r.shape[0]-1):\n",
    "#         date_str_l = df_r.iloc[i,0].split('/')\n",
    "#         date_str_l[0] = str(int(date_str_l[0]) + 1911)\n",
    "#         date_str = date_str_l[0]+\"-\"+date_str_l[1]+\"-\"+date_str_l[2]\n",
    "#         cursor.execute(sql_insert.format(i,date_str,df_r.iloc[i,1]))\n",
    "    \n",
    "#     db.commit()#commit是把查詢語句提交到資料庫內\n",
    "#     accounts = cursor.fetchall()#拿到dict\n",
    "#     db.close()\n",
    "#     return db, cursor ,accounts\n",
    "\n",
    "# db, cursor ,accounts = pymysqlcon(ip, user, pw, db ,sql)\n",
    "# user = pd.DataFrame(accounts)\n",
    "# user"
   ]
  },
  {
   "cell_type": "code",
   "execution_count": 140,
   "metadata": {},
   "outputs": [
    {
     "data": {
      "text/plain": [
       "<pymongo.results.InsertManyResult at 0x7ff2c8541e00>"
      ]
     },
     "execution_count": 140,
     "metadata": {},
     "output_type": "execute_result"
    }
   ],
   "source": [
    "from pymongo import MongoClient\n",
    "\n",
    "#無認證的連線方式\n",
    "# client = MongoClient(host='192.168.56.105', port=27017)\n",
    "# #or\n",
    "client = MongoClient('mongodb://192.168.56.105:27017/')\n",
    "\n",
    "# #有認證的連線方式\n",
    "# client = MongoClient('example.com',\n",
    "#                       username='user',\n",
    "#                       password='password',\n",
    "#                       authMechanism='MONGODB-CR')\n",
    "# or\n",
    "# uri = \"mongodb://user:[email protected]/?authSource=the_database&authMechanism=MONGODB-CR\"\n",
    "# client = MongoClient(uri)\n",
    "#創建mongoDB\n",
    "db = client[\"testdb123\"]\n",
    "#創建mongo_collection\n",
    "col = db[\"YT\"]\n",
    "\n",
    "records = df_r.to_dict('records') # 參數 record 代表把列轉成個別物件\n",
    "col.insert_many(records)"
   ]
  },
  {
   "cell_type": "code",
   "execution_count": null,
   "metadata": {},
   "outputs": [],
   "source": []
  }
 ],
 "metadata": {
  "kernelspec": {
   "display_name": "Python 3",
   "language": "python",
   "name": "python3"
  },
  "language_info": {
   "codemirror_mode": {
    "name": "ipython",
    "version": 3
   },
   "file_extension": ".py",
   "mimetype": "text/x-python",
   "name": "python",
   "nbconvert_exporter": "python",
   "pygments_lexer": "ipython3",
   "version": "3.8.3"
  }
 },
 "nbformat": 4,
 "nbformat_minor": 4
}
