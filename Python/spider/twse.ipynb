{
 "cells": [
  {
   "cell_type": "code",
   "execution_count": 1,
   "metadata": {},
   "outputs": [],
   "source": [
    "from selenium import webdriver\n",
    "from selenium.webdriver.support.ui import Select\n",
    "from selenium.webdriver.common.keys import Keys\n",
    "\n",
    "url = \"https://www.twse.com.tw/zh/page/trading/exchange/STOCK_DAY_AVG.html\"\n",
    "    \n",
    "driver = webdriver.Chrome(\"/Users/hou-yehchen/Desktop/Python/spider/chromedriver\")\n",
    "\n",
    "driver.get(url)"
   ]
  },
  {
   "cell_type": "code",
   "execution_count": 4,
   "metadata": {},
   "outputs": [],
   "source": [
    "s = driver.find_element_by_css_selector(\"#d1 > select:nth-child(2)\")\n",
    "Select(s).select_by_value(\"6\")"
   ]
  },
  {
   "cell_type": "code",
   "execution_count": 5,
   "metadata": {},
   "outputs": [],
   "source": [
    "stuck_input = driver.find_element_by_css_selector(\"#main-form > div > div > form > input\")\n",
    "stuck_input.send_keys(\"0050\")"
   ]
  },
  {
   "cell_type": "code",
   "execution_count": 6,
   "metadata": {},
   "outputs": [],
   "source": [
    "search = driver.find_element_by_css_selector(\"#main-form > div > div > form > a.button.search\")\n",
    "search.click()"
   ]
  },
  {
   "cell_type": "code",
   "execution_count": 7,
   "metadata": {},
   "outputs": [],
   "source": [
    "from bs4 import BeautifulSoup as bs"
   ]
  },
  {
   "cell_type": "code",
   "execution_count": 18,
   "metadata": {},
   "outputs": [
    {
     "name": "stdout",
     "output_type": "stream",
     "text": [
      "日期: 109/06/01 收盤價: 84.90\n",
      "日期: 109/06/02 收盤價: 85.30\n",
      "日期: 109/06/03 收盤價: 86.80\n",
      "日期: 109/06/04 收盤價: 87.60\n",
      "日期: 109/06/05 收盤價: 88.35\n",
      "日期: 109/06/08 收盤價: 89.50\n",
      "日期: 109/06/09 收盤價: 89.60\n",
      "日期: 109/06/10 收盤價: 90.45\n",
      "日期: 109/06/11 收盤價: 89.05\n",
      "日期: 109/06/12 收盤價: 88.25\n",
      "日期: 109/06/15 收盤價: 87.00\n",
      "日期: 109/06/16 收盤價: 88.90\n",
      "日期: 109/06/17 收盤價: 89.00\n",
      "日期: 109/06/18 收盤價: 88.90\n",
      "日期: 109/06/19 收盤價: 88.85\n",
      "日期: 109/06/22 收盤價: 89.05\n",
      "日期: 109/06/23 收盤價: 89.45\n",
      "日期: 109/06/24 收盤價: 90.00\n",
      "日期: 109/06/29 收盤價: 89.10\n",
      "日期: 109/06/30 收盤價: 89.90\n",
      "日期: 月平均收盤價 收盤價: 88.50\n"
     ]
    }
   ],
   "source": [
    "soup = bs(driver.page_source, \"html.parser\")\n",
    "\n",
    "for tr in soup.find(\"table\").find(\"tbody\").find_all(\"tr\"):\n",
    "    tds = tr.find_all(\"td\")\n",
    "    print(\"日期: \"+tds[0].text, \"收盤價: \"+tds[1].text)"
   ]
  },
  {
   "cell_type": "code",
   "execution_count": null,
   "metadata": {},
   "outputs": [],
   "source": []
  },
  {
   "cell_type": "code",
   "execution_count": null,
   "metadata": {},
   "outputs": [],
   "source": []
  },
  {
   "cell_type": "code",
   "execution_count": null,
   "metadata": {},
   "outputs": [],
   "source": []
  }
 ],
 "metadata": {
  "kernelspec": {
   "display_name": "Python 3",
   "language": "python",
   "name": "python3"
  },
  "language_info": {
   "codemirror_mode": {
    "name": "ipython",
    "version": 3
   },
   "file_extension": ".py",
   "mimetype": "text/x-python",
   "name": "python",
   "nbconvert_exporter": "python",
   "pygments_lexer": "ipython3",
   "version": "3.8.3"
  }
 },
 "nbformat": 4,
 "nbformat_minor": 4
}
