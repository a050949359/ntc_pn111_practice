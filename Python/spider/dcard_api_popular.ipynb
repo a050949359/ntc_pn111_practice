{
 "cells": [
  {
   "cell_type": "code",
   "execution_count": 3,
   "metadata": {},
   "outputs": [],
   "source": [
    "import requests,json\n",
    "from bs4 import BeautifulSoup as bs\n",
    "\n",
    "url = \"https://www.dcard.tw/service/api/v2/posts?popular=true&limit=30\"\n",
    "\n",
    "html = requests.get(url)\n"
   ]
  },
  {
   "cell_type": "code",
   "execution_count": 15,
   "metadata": {},
   "outputs": [
    {
     "name": "stdout",
     "output_type": "stream",
     "text": [
      "我就是那個跟狗一樣的前女友！！！\n",
      "大更！/是我瘋了 還是整間公司都瘋了\n",
      "#更新一張被已讀/莫名其妙自以為全世界都圍著她轉的網紅？\n",
      "地瓜 您是哪位...?\n",
      "艾蜜莉在台灣\n",
      "女友上教練課上到我覺得頭頂綠綠的\n",
      "無印奶茶風，時隔四年我搬家了！\n",
      "親愛的老婆\n",
      "我討厭他 但我卻還跟他在一起\n",
      "全昭旻的Instagram充滿惡意評論\n",
      "撿到七萬...？\n",
      "⚠️在捷運上用AirDrop傳性器官影片（更\n",
      "現在的網紅都那麼亂來嗎？\n",
      "韓國電競霸凌真的有夠嚴重\n",
      "分手過了一年半\n",
      "萬聖節的糖不能亂吃\n",
      "711好吃三明治回來了😋❤️\n",
      "康是美真的是窮人救星\n",
      "副乳乳頭？\n",
      "帥哥的定義到底是甚麼\n",
      "全家就是你家\n",
      "我和男友7年的感情與變化\n",
      "我以為大家都知道\n",
      "[Alan講情報］iPhone 12/12pro 實機照片流出啦\n",
      "你喜歡自己嗎？\n",
      "Uniqlo & GU的熊寶寶外套比較\n",
      "張國榮\n",
      "#集中討論 (持更）MAMAMOO 10/20先行曲回歸💪🏻💋\n",
      "希望認識的人能告訴她男友他被綠了\n",
      "大一分組問題多(我==\n"
     ]
    }
   ],
   "source": [
    "for i,data in enumerate(html.json()):\n",
    "    print(data['title'])"
   ]
  },
  {
   "cell_type": "code",
   "execution_count": null,
   "metadata": {},
   "outputs": [],
   "source": []
  },
  {
   "cell_type": "code",
   "execution_count": null,
   "metadata": {},
   "outputs": [],
   "source": []
  }
 ],
 "metadata": {
  "kernelspec": {
   "display_name": "Python 3",
   "language": "python",
   "name": "python3"
  },
  "language_info": {
   "codemirror_mode": {
    "name": "ipython",
    "version": 3
   },
   "file_extension": ".py",
   "mimetype": "text/x-python",
   "name": "python",
   "nbconvert_exporter": "python",
   "pygments_lexer": "ipython3",
   "version": "3.8.3"
  }
 },
 "nbformat": 4,
 "nbformat_minor": 4
}
