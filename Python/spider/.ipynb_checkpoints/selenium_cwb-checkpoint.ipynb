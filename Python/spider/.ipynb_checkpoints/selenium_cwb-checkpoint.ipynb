{
 "cells": [
  {
   "cell_type": "code",
   "execution_count": 52,
   "metadata": {},
   "outputs": [],
   "source": [
    "from selenium import webdriver\n",
    "from selenium.webdriver.support.ui import Select\n",
    "from selenium.webdriver.common.keys import Keys\n",
    "\n",
    "url = \"https://e-service.cwb.gov.tw/HistoryDataQuery/index.jsp\"\n",
    "\n",
    "driver = webdriver.Chrome(executable_path=\"/Users/hou-yehchen/Desktop/Python/spider/chromedriver\")\n",
    "#若沒有將chromedriver放在Python環境中需指定檔案的絕對路徑\n",
    "\n",
    "driver.get(url)"
   ]
  },
  {
   "cell_type": "code",
   "execution_count": 54,
   "metadata": {},
   "outputs": [],
   "source": [
    "s = driver.find_element_by_id(\"stationCounty\")"
   ]
  },
  {
   "cell_type": "code",
   "execution_count": 55,
   "metadata": {},
   "outputs": [],
   "source": [
    "Select(s).select_by_value(\"苗栗縣\")"
   ]
  },
  {
   "cell_type": "code",
   "execution_count": 48,
   "metadata": {},
   "outputs": [],
   "source": [
    "driver.find_element_by_tag_name('body').send_keys(Keys.CONTROL + Keys.TAB)\n",
    "\n",
    "driver.switch_to_window(main_window)"
   ]
  },
  {
   "cell_type": "code",
   "execution_count": 51,
   "metadata": {},
   "outputs": [],
   "source": [
    "driver.find_element_by_tag_name('body').send_keys(Keys.CONTROL + 'w')\n",
    "\n",
    "driver.switch_to_window(main_window)"
   ]
  },
  {
   "cell_type": "code",
   "execution_count": null,
   "metadata": {},
   "outputs": [],
   "source": []
  }
 ],
 "metadata": {
  "kernelspec": {
   "display_name": "Python 3",
   "language": "python",
   "name": "python3"
  },
  "language_info": {
   "codemirror_mode": {
    "name": "ipython",
    "version": 3
   },
   "file_extension": ".py",
   "mimetype": "text/x-python",
   "name": "python",
   "nbconvert_exporter": "python",
   "pygments_lexer": "ipython3",
   "version": "3.8.3"
  }
 },
 "nbformat": 4,
 "nbformat_minor": 4
}
