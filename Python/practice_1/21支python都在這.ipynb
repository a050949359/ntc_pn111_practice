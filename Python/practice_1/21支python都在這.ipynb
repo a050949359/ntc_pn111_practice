{
 "cells": [
  {
   "cell_type": "markdown",
   "metadata": {},
   "source": [
    "part 1\n",
    "# 第一支 python 打到哪一關"
   ]
  },
  {
   "cell_type": "code",
   "execution_count": 1,
   "metadata": {},
   "outputs": [
    {
     "name": "stdout",
     "output_type": "stream",
     "text": [
      "請輸入前一次遊戲過關編號：3\n",
      "請輸入這一次遊戲過關編號：4\n",
      "恭喜過了 1 關！\n"
     ]
    }
   ],
   "source": [
    "# lastTime=input('請輸入前一次遊戲過關編號：')\n",
    "# thisTime=input('請輸入這一次遊戲過關編號：')\n",
    "# #字串資料要用int()函式轉型為整數，才能進行四則運算\n",
    "# #數值資料要轉型為字串，才能用+運算子來做字串連接\n",
    "# print('恭喜過了 '+str(int(thisTime)-int(lastTime))+' 關！')\n",
    "\n",
    "#輸入問答"
   ]
  },
  {
   "cell_type": "code",
   "execution_count": 38,
   "metadata": {},
   "outputs": [
    {
     "name": "stdout",
     "output_type": "stream",
     "text": [
      "請輸入這一次遊戲過關編號：16\n",
      "前一次遊戲過了14\n",
      "恭喜過了 2 關！\n"
     ]
    }
   ],
   "source": [
    "### import os\n",
    "lastTime = 0\n",
    "first = True\n",
    "if (os.path.isfile('./game_record.txt')):\n",
    "    first = False\n",
    "\n",
    "thisTime=input('請輸入這一次遊戲過關編號：')\n",
    "\n",
    "if (not first):\n",
    "    gameRecord_read = open(\"game_record.txt\",\"r\")\n",
    "    lastTime = gameRecord_read.readlines(1)\n",
    "    lastTimeStr = str(int(lastTime[0]))\n",
    "    print(\"前一次遊戲過了\" + lastTimeStr)\n",
    "    gameRecord_write = open(\"game_record.txt\",\"w+\")\n",
    "    gameRecord_write.write(str(thisTime))\n",
    "    passGame = int(thisTime)-int(lastTime[0])\n",
    "    if(passGame > 0):\n",
    "        print('恭喜過了 '+str(passGame)+' 關！')\n",
    "    else:\n",
    "        print('居然退步了？！')\n",
    "    gameRecord_write.close()\n",
    "    gameRecord_read.close()\n",
    "else:\n",
    "    gameRecord_write = open(\"game_record.txt\",\"w+\")\n",
    "    gameRecord_write.write(str(thisTime))\n",
    "    print('恭喜第一次玩就過了 '+str(thisTime)+' 關！')\n",
    "    \n",
    "    gameRecord_write.close()\n",
    "    \n"
   ]
  },
  {
   "cell_type": "code",
   "execution_count": 8,
   "metadata": {},
   "outputs": [
    {
     "name": "stdout",
     "output_type": "stream",
     "text": [
      "4\n"
     ]
    }
   ],
   "source": []
  },
  {
   "cell_type": "markdown",
   "metadata": {},
   "source": [
    "# 第二支 python 格式化輸出(自我介紹)"
   ]
  },
  {
   "cell_type": "code",
   "execution_count": 8,
   "metadata": {},
   "outputs": [],
   "source": [
    "# # 定義字符串變量 name，輸出 我的名字叫 小明，請多多關照！\n",
    "# name = \"大小明\"\n",
    "# print(\"我的名字叫 %s，請多多關照！\" % name)\n",
    "\n",
    "# # 定義整數變量 student_no，輸出 我的學號是 000001\n",
    "# student_no = 100123456\n",
    "# print(\"我的學號是 %50d\" % student_no)\n",
    "\n",
    "# # 定義小數 price、weight、money，\n",
    "# # 輸出 蘋果單價 9.00 元／斤，購買了 5.00 斤，需要支付 45.00 元\n",
    "# price = 8.5\n",
    "# weight = 7.5\n",
    "# money = price * weight\n",
    "# print(\"蘋果單價 %.2f 元／斤，購買了 %.3f 斤，需要支付 %.4f 元\" % (price, weight, money))\n",
    "\n",
    "# # 定義一個小數 scale，輸出 數據比例是 10.00%\n",
    "# scale = 0.8\n",
    "# print(\"數據比例是 %.2f%%\" % (scale * 100))\n",
    "\n",
    "#輸出字串格式"
   ]
  },
  {
   "cell_type": "code",
   "execution_count": 48,
   "metadata": {},
   "outputs": [
    {
     "name": "stdout",
     "output_type": "stream",
     "text": [
      "美國總統的名字叫川普\n",
      "他現在的支持率有 44 %\n"
     ]
    }
   ],
   "source": [
    "country = \"美國\"\n",
    "name = \"川普\"\n",
    "\n",
    "print(\"%s總統的名字叫%s\" % (country, name))\n",
    "\n",
    "popularity = 44\n",
    "\n",
    "print(\"他現在的支持率有 %d \" % popularity + '%')"
   ]
  },
  {
   "cell_type": "markdown",
   "metadata": {},
   "source": [
    "# 第三支 python 溫度變換器"
   ]
  },
  {
   "cell_type": "code",
   "execution_count": 3,
   "metadata": {},
   "outputs": [
    {
     "name": "stdout",
     "output_type": "stream",
     "text": [
      "請輸入攝氏溫度：(整數)30\n",
      "攝氏  30度  =  華氏0086.000度\n"
     ]
    }
   ],
   "source": [
    "# cDegree=int(input('請輸入攝氏溫度：(整數)'))\n",
    "# fDegree=cDegree*9/5+32\n",
    "# print('攝氏%4d度  =  華氏%08.3f度'%(cDegree,fDegree))\n",
    "\n",
    "#單位換算"
   ]
  },
  {
   "cell_type": "code",
   "execution_count": 53,
   "metadata": {},
   "outputs": [
    {
     "name": "stdout",
     "output_type": "stream",
     "text": [
      "請輸入公斤：13\n",
      "13 公斤等於 7.8 台斤\n"
     ]
    }
   ],
   "source": [
    "kg=input(\"請輸入公斤：\")\n",
    "twCatty = 0.6 * int(kg)\n",
    "print(kg,\"公斤\"+\"等於\",str(twCatty),\"台斤\")"
   ]
  },
  {
   "cell_type": "markdown",
   "metadata": {},
   "source": [
    "# 第四支 python 幫媽媽買豬肉"
   ]
  },
  {
   "cell_type": "code",
   "execution_count": 54,
   "metadata": {},
   "outputs": [],
   "source": [
    "# # 1.輸入豬肉的單價\n",
    "# price_str = input(\"豬肉一斤的價格：\")\n",
    "\n",
    "# # 2. 輸入豬肉的重量\n",
    "# weight_str = input(\"豬肉的重量：\")\n",
    "\n",
    "# # 3.計算支付的總金額\n",
    "# # 注意：兩個字符串變量之間是不能直接用乘法的\n",
    "# # money = price_str * weight_str\n",
    "# # 1>將價格轉換成小數\n",
    "# price = float(price_str)\n",
    "\n",
    "# # 2>將重量轉換成小數\n",
    "# weight = float(weight_str)\n",
    "\n",
    "# # 3>用兩個小數來計算最終的金額\n",
    "# money = price * weight\n",
    "\n",
    "# print(money)\n",
    "\n",
    "#算術互動"
   ]
  },
  {
   "cell_type": "code",
   "execution_count": 202,
   "metadata": {},
   "outputs": [
    {
     "name": "stdout",
     "output_type": "stream",
     "text": [
      "計算的形狀（1.圓形, 2.三角形, 3.方形）：3\n",
      "請輸入長：3\n",
      "請輸入寬：6\n",
      "正方形面積為： 18.0\n"
     ]
    }
   ],
   "source": [
    "shapeType = input(\"計算的形狀（1.圓形, 2.三角形, 3.方形）：\")\n",
    "pi = 3.1415926\n",
    "\n",
    "if shapeType.isdigit():\n",
    "    if int(shapeType) == 1:\n",
    "        r = input(\"請輸入半徑：\")\n",
    "        print(\"圓形面積為：\",str(float(r)**2*pi))\n",
    "    elif int(shapeType) == 2:\n",
    "        x = input(\"請輸入底：\")\n",
    "        y = input(\"請輸入高：\")\n",
    "        print(\"三角形面積為：\",str(float(x)*float(y)/2))\n",
    "    elif int(shapeType) == 3:\n",
    "        x = input(\"請輸入長：\")\n",
    "        y = input(\"請輸入寬：\")\n",
    "        print(\"正方形面積為：\",str(float(x)*float(y)))\n",
    "    else:\n",
    "        print(\"請輸入正確的數字\")\n",
    "else:\n",
    "    print(\"請輸入數字\")"
   ]
  },
  {
   "cell_type": "markdown",
   "metadata": {},
   "source": [
    "# 第五支 python 判斷成績機\n",
    "if"
   ]
  },
  {
   "cell_type": "code",
   "execution_count": 5,
   "metadata": {},
   "outputs": [
    {
     "name": "stdout",
     "output_type": "stream",
     "text": [
      "考試通過\n"
     ]
    }
   ],
   "source": [
    "# # 定義兩個整數變量 python_score、c_score，編寫代碼判斷成績\n",
    "# python_score = 90\n",
    "\n",
    "# c_score = 50\n",
    "\n",
    "# # 要求只要有一門成績 > 60 分就算合格\n",
    "# if python_score > 60 or c_score > 60:\n",
    "#     print(\"考試通過\")\n",
    "# else:\n",
    "#     print(\"考試失敗，繼續努力\")\n",
    "\n",
    "#判斷式"
   ]
  },
  {
   "cell_type": "code",
   "execution_count": 80,
   "metadata": {},
   "outputs": [
    {
     "name": "stdout",
     "output_type": "stream",
     "text": [
      "準時\n"
     ]
    }
   ],
   "source": [
    "import time\n",
    "\n",
    "firstTime = time.strptime(\"09:30:00\", \"%H:%M:%S\")\n",
    "secondTime = time.strptime(\"09:31:50\", \"%H:%M:%S\")\n",
    "\n",
    "\n",
    "x = int(time.strftime(\"%H%M%S\", firstTime)) - int(time.strftime(\"%H%M%S\", secondTime))\n",
    "\n",
    "if x > 0:\n",
    "    print(\"準時\")\n",
    "else:\n",
    "    print(\"遲到\")"
   ]
  },
  {
   "cell_type": "markdown",
   "metadata": {},
   "source": [
    "# 第六支 python 解悶猜拳機"
   ]
  },
  {
   "cell_type": "code",
   "execution_count": 6,
   "metadata": {
    "scrolled": true
   },
   "outputs": [
    {
     "name": "stdout",
     "output_type": "stream",
     "text": [
      "請輸入您要出的拳 石頭（1）／剪刀（2）／布（3）：2\n",
      "玩家選擇的拳頭是 2 - 電腦出的拳是 3\n",
      "歐耶，電腦弱爆了！\n"
     ]
    }
   ],
   "source": [
    "# # 導入隨機套件\n",
    "# # 注意：在導入套件的時候，應該將導入的語句，放在文件的頂部\n",
    "# # 因為，這樣可以方便下方的代碼，在任何需要的時候，使用套件中的功能\n",
    "# import random\n",
    "\n",
    "# # 從控制台輸入要出的拳 —— 石頭（1）／剪刀（2）／布（3）\n",
    "# player = int(input(\"請輸入您要出的拳 石頭（1）／剪刀（2）／布（3）：\"))\n",
    "\n",
    "# # 電腦 隨機 出拳 —— 先假定電腦只會出石頭，完成整體代碼功能\n",
    "# computer = random.randint(1, 3)\n",
    "\n",
    "# print(\"玩家選擇的拳頭是 %d - 電腦出的拳是 %d\" % (player, computer))\n",
    "\n",
    "# # 比較勝負\n",
    "# # 1 石頭 勝 剪刀\n",
    "# # 2 剪刀 勝 布\n",
    "# # 3 布 勝 石頭\n",
    "\n",
    "# if (player == 1 and computer == 2):\n",
    "#     print(\"歐耶，電腦弱爆了！\")\n",
    "# elif (player == 2 and computer == 3):\n",
    "#     print(\"歐耶，電腦弱爆了！\")\n",
    "# elif (player == 3 and computer == 1):\n",
    "#     print(\"歐耶，電腦弱爆了！\")\n",
    "# # 平手\n",
    "# elif player == computer:\n",
    "#     print(\"真是心有靈犀啊，再來一盤\")\n",
    "# # 其他的情況就是電腦獲勝\n",
    "# else:\n",
    "#     print(\"不服氣，我們決戰到天明！\")\n",
    "\n",
    "# 划拳"
   ]
  },
  {
   "cell_type": "code",
   "execution_count": 99,
   "metadata": {},
   "outputs": [
    {
     "name": "stdout",
     "output_type": "stream",
     "text": [
      "請從 0 ~ 9 猜一個數字：2\n",
      "可惜, 在猜一次2\n",
      "請從 2 ~ 9 猜一個數字：1\n",
      "遊戲結束\n"
     ]
    }
   ],
   "source": [
    "import random\n",
    "\n",
    "upper = 9\n",
    "lower = 0\n",
    "\n",
    "#answer = random.randint(lower, upper)\n",
    "answer = 5\n",
    "\n",
    "while 1:\n",
    "    mStr = \"請從 {} ~ {} 猜一個數字：\".format(lower, upper)\n",
    "    guess = int(input(mStr))\n",
    "    \n",
    "    if guess == answer:\n",
    "        print(\"恭喜猜對, 遊戲結束.\")\n",
    "        break\n",
    "    \n",
    "    elif lower < answer < guess and lower < guess < upper:\n",
    "        print(\"可惜, 在猜一次1\")\n",
    "        upper = guess\n",
    "    \n",
    "    elif guess < answer < upper and lower < guess < upper:\n",
    "        print(\"可惜, 在猜一次2\")\n",
    "        lower = guess\n",
    "        \n",
    "    else:\n",
    "        print(\"遊戲結束\")\n",
    "        break\n",
    "    \n"
   ]
  },
  {
   "cell_type": "markdown",
   "metadata": {},
   "source": [
    "# 第七支 python 判斷年齡"
   ]
  },
  {
   "cell_type": "code",
   "execution_count": 9,
   "metadata": {},
   "outputs": [
    {
     "name": "stdout",
     "output_type": "stream",
     "text": [
      "請輸入年齡：19\n",
      "你已經成年，歡迎來網咖\n"
     ]
    }
   ],
   "source": [
    "# # 輸入用戶年齡\n",
    "# age = int(input(\"請輸入年齡：\"))\n",
    "\n",
    "# # 判斷是否滿 18 歲 （>=）\n",
    "# # 如果滿 18 歲，允許進網咖!\n",
    "# if age >= 18:\n",
    "#     print(\"你已經成年，歡迎來網咖\")\n",
    "    \n",
    "# # 如果未滿 18 歲，提示回家寫作業\n",
    "# else:\n",
    "#     print(\"你還沒有成年，請回家寫作業吧\")\n",
    "\n",
    "# # 這句代碼無論條件是否成立都會執行！\n",
    "# # print(\"這句代碼什麼時候執行？\")\n"
   ]
  },
  {
   "cell_type": "code",
   "execution_count": 107,
   "metadata": {},
   "outputs": [
    {
     "name": "stdout",
     "output_type": "stream",
     "text": [
      "請輸入成績：2.2\n",
      "請輸入數字\n"
     ]
    }
   ],
   "source": [
    "mark = input(\"請輸入成績：\")\n",
    "\n",
    "if not mark.lstrip('-').isdigit():\n",
    "    print(\"請輸入成績\")\n",
    "elif int(mark) > 100 or int(mark) < 0:\n",
    "    print(\"請輸入 0 ~ 100\")\n",
    "else:\n",
    "    if int(mark) >= 60:\n",
    "        print(\"恭喜通過測試\")\n",
    "    else:\n",
    "        print(\"再加油吧\")\n"
   ]
  },
  {
   "cell_type": "markdown",
   "metadata": {},
   "source": [
    "part2\n",
    "# 第八支 python程式 女友行不行？\n"
   ]
  },
  {
   "cell_type": "code",
   "execution_count": 10,
   "metadata": {},
   "outputs": [
    {
     "name": "stdout",
     "output_type": "stream",
     "text": [
      "買包包\n",
      "買雞肉\n",
      "吃大餐\n"
     ]
    }
   ],
   "source": [
    "# # 定義 holiday_name 字符串記錄節日（指定今天是女友生日）\n",
    "# holiday_name = \"聖誕節\"\n",
    "\n",
    "# # 如果是 情人節 應該 買包包／看電影\n",
    "# if holiday_name == \"情人節\":\n",
    "#     print(\"買包包\")\n",
    "#     print(\"看電影\")\n",
    "\n",
    "# # 如果是 聖誕節 應該 買包包／買雞肉／吃大餐\n",
    "# elif holiday_name == \"聖誕節\":\n",
    "#     print(\"買包包\")\n",
    "#     print(\"買雞肉\")\n",
    "#     print(\"吃大餐\")\n",
    "\n",
    "# # 如果是 生日 應該 買包包／逛街\n",
    "# elif holiday_name == \"生日\":\n",
    "#     print(\"買包包\")\n",
    "#     print(\"逛街\")\n",
    "\n",
    "# # 其他的日子每天都是節人節……\n",
    "# else:\n",
    "#     print(\"每天都是節人節!!!\")"
   ]
  },
  {
   "cell_type": "code",
   "execution_count": 197,
   "metadata": {},
   "outputs": [
    {
     "name": "stdout",
     "output_type": "stream",
     "text": [
      "今天星期二, 吃速食\n"
     ]
    }
   ],
   "source": [
    "import random\n",
    "dofWeek = \"星期二\"\n",
    "\n",
    "lunchList1 = [\"素食\", \"便當\", \"便利商店\"]\n",
    "lunchList2 = [\"素食\", \"速食\", \"便利商店\"]\n",
    "lunchList3 = [\"便當\", \"速食\", \"便利商店\"]\n",
    "lunchList4 = [\"素食\", \"便當\", \"速食\"]\n",
    "lunchList5 = [\"速食\", \"便利商店\"]\n",
    "\n",
    "if dofWeek == \"星期一\":\n",
    "    index = random.randint(0, len(lunchList1)-1)\n",
    "    print(\"今天\"+dofWeek+\", 吃\" + lunchList1[index])\n",
    "    \n",
    "elif dofWeek == \"星期二\":\n",
    "    index = random.randint(0, len(lunchList2)-1)\n",
    "    print(\"今天\"+dofWeek+\", 吃\" + lunchList2[index])\n",
    "    \n",
    "elif dofWeek == \"星期三\":\n",
    "    index = random.randint(0, len(lunchList3)-1)\n",
    "    print(\"今天\"+dofWeek+\", 吃\" + lunchList3[index])\n",
    "    \n",
    "elif dofWeek == \"星期四\":\n",
    "    index = random.randint(0, len(lunchList4)-1)\n",
    "    print(\"今天\"+dofWeek+\", 吃\" + lunchList4[index])\n",
    "    \n",
    "elif dofWeek == \"星期五\":\n",
    "    index = random.randint(0, len(lunchList5)-1)\n",
    "    print(\"今天\"+dofWeek+\", 吃\" + lunchList5[index])\n",
    "else:\n",
    "    print(\"假日在家吃\")"
   ]
  },
  {
   "cell_type": "markdown",
   "metadata": {},
   "source": [
    "# 第九支 python 我的名字\n",
    "list"
   ]
  },
  {
   "cell_type": "code",
   "execution_count": 12,
   "metadata": {},
   "outputs": [],
   "source": [
    "\n",
    "# name_list = [\"kai\", \"city\", \"buger\", \"Ya\"]\n",
    "\n",
    "\n",
    "# \"\"\"\n",
    "# 從列表中依次獲取數據，每一次循環過程中，數據都會保存在　\n",
    "# my_name 這個變量，在循環中可以得到當前循環到的數據\n",
    "\n",
    "# for my_name in 列表:\n",
    "\n",
    "#     print(\"我的名字叫　%s\" % my_name)\n",
    "\n",
    "# \"\"\"\n",
    "# for my_name in name_list:\n",
    "    \n",
    "#     print(\"我的名字叫　%s\" % my_name)"
   ]
  },
  {
   "cell_type": "code",
   "execution_count": 133,
   "metadata": {},
   "outputs": [
    {
     "name": "stdout",
     "output_type": "stream",
     "text": [
      "產品有　椅子\n",
      "產品有　桌子\n",
      "產品有　櫃子\n",
      "產品有　床\n"
     ]
    }
   ],
   "source": [
    "sellList = [\"椅子\",\"桌子\",\"櫃子\",\"床\"]\n",
    "for productName in sellList:\n",
    "      print(\"產品有　%s\" % productName)"
   ]
  },
  {
   "cell_type": "markdown",
   "metadata": {},
   "source": [
    "# 第十支 python 唐詩三百首 登鸛雀樓"
   ]
  },
  {
   "cell_type": "code",
   "execution_count": 14,
   "metadata": {},
   "outputs": [],
   "source": [
    "# # 假設：以下內容是從網絡上抓取的\n",
    "# # 要求：\n",
    "# # 1. 將字符串中的空白字符全部去掉\n",
    "# # 2. 再使用 \" \" 作為分隔符，拼接成一個整齊的字符串\n",
    "# poem_str = \"登鸛雀樓\\t 王之渙 \\t 白日依山盡 \\t \\n 黃河入海流 \\t\\t 欲窮千里目 \\t\\t\\n更上一層樓\"\n",
    "\n",
    "# print(poem_str)\n",
    "\n",
    "# # 1. 拆分字符串\n",
    "# poem_list = poem_str.split()\n",
    "# print(poem_list)\n",
    "\n",
    "# # 2. 合併字符串\n",
    "# result = \" \".join(poem_list)\n",
    "# print(result)"
   ]
  },
  {
   "cell_type": "code",
   "execution_count": 142,
   "metadata": {},
   "outputs": [
    {
     "name": "stdout",
     "output_type": "stream",
     "text": [
      "黃鶴樓\t 崔顥\t \n",
      "\n",
      " 昔人已乘黃鶴去 \t \n",
      " 此地空餘黃鶴樓 \t \n",
      " 黃鶴一去不復返 \t \n",
      " 白雲千載空悠悠 \t \n",
      " 晴川歷歷漢陽樹 \t \n",
      " 芳草萋萋鸚鵡洲 \t \n",
      " 日暮鄉關何處是 \t \n",
      " 煙波江上使人愁\n",
      "\n",
      "\n",
      "\n",
      "黃鶴樓\n",
      "崔顥\n",
      "昔人已乘黃鶴去\n",
      "此地空餘黃鶴樓\n",
      "黃鶴一去不復返\n",
      "白雲千載空悠悠\n",
      "晴川歷歷漢陽樹\n",
      "芳草萋萋鸚鵡洲\n",
      "日暮鄉關何處是\n",
      "煙波江上使人愁\n"
     ]
    }
   ],
   "source": [
    "poem_str = \"黃鶴樓\\t 崔顥\\t \\n\\n 昔人已乘黃鶴去 \\t \\n 此地空餘黃鶴樓 \\t \\n 黃鶴一去不復返 \\t \\n 白雲千載空悠悠 \\t \\n 晴川歷歷漢陽樹 \\t \\n 芳草萋萋鸚鵡洲 \\t \\n 日暮鄉關何處是 \\t \\n 煙波江上使人愁\"\n",
    "\n",
    "\n",
    "print(poem_str)\n",
    "\n",
    "poem_list = poem_str.split()\n",
    "# print(poem_list)\n",
    "print(\"\\n\\n\")\n",
    "\n",
    "result = \"\\n\".join(poem_list)\n",
    "print(result)"
   ]
  },
  {
   "cell_type": "markdown",
   "metadata": {},
   "source": [
    "# 第十一支 python 登鸛雀樓二***\n",
    "for"
   ]
  },
  {
   "cell_type": "code",
   "execution_count": 16,
   "metadata": {},
   "outputs": [],
   "source": [
    "# # 假設：以下內容是從網絡上抓取的\n",
    "# # 要求：順序並且居中對齊輸出以下內容\n",
    "# poem = [\"\\t\\n登鸛雀樓\",\"王之渙\",\"白日依山盡\\t\\n\",\"黃河入海流\",\"欲窮千里目\",\"更上一層樓\"]\n",
    "# print(poem)\n",
    "# # 先使用strip方法去除字符串中的空白字符\n",
    "# # 再使用center方法居中顯示文本\n",
    "# print(\"---------------------原始---------------------\")\n",
    "# for poem_str in poem:\n",
    "#         print(\"|%s|\" % poem_str)\n",
    "# print(\"---------------------去除空白符---------------------\")\n",
    "# for poem_str in poem:\n",
    "#         print(\"|%s|\" % poem_str.strip())      \n",
    "# print(\"---------------------置中---------------------\")\n",
    "# for poem_str in poem:\n",
    "#         print(\"|%s|\" % poem_str.strip().center(10, \"　\"))"
   ]
  },
  {
   "cell_type": "code",
   "execution_count": 151,
   "metadata": {},
   "outputs": [
    {
     "name": "stdout",
     "output_type": "stream",
     "text": [
      "---------------------原始---------------------\n",
      "|黃鶴樓|\n",
      "|崔顥|\n",
      "|昔人已乘黃鶴去|\n",
      "|此地空餘黃鶴樓|\n",
      "|黃鶴一去不復返|\n",
      "|白雲千載空悠悠|\n",
      "|晴川歷歷漢陽樹|\n",
      "|芳草萋萋鸚鵡洲|\n",
      "|日暮鄉關何處是|\n",
      "|煙波江上使人愁|\n",
      "---------------------去除空白符---------------------\n",
      "|黃鶴樓|\n",
      "|崔顥|\n",
      "|昔人已乘黃鶴去|\n",
      "|此地空餘黃鶴樓|\n",
      "|黃鶴一去不復返|\n",
      "|白雲千載空悠悠|\n",
      "|晴川歷歷漢陽樹|\n",
      "|芳草萋萋鸚鵡洲|\n",
      "|日暮鄉關何處是|\n",
      "|煙波江上使人愁|\n",
      "---------------------置中---------------------\n",
      "|　　　黃鶴樓　　　　|\n",
      "|　　　　崔顥　　　　|\n",
      "|　昔人已乘黃鶴去　　|\n",
      "|　此地空餘黃鶴樓　　|\n",
      "|　黃鶴一去不復返　　|\n",
      "|　白雲千載空悠悠　　|\n",
      "|　晴川歷歷漢陽樹　　|\n",
      "|　芳草萋萋鸚鵡洲　　|\n",
      "|　日暮鄉關何處是　　|\n",
      "|　煙波江上使人愁　　|\n"
     ]
    }
   ],
   "source": [
    "poem = [\"黃鶴樓\",\"崔顥\",\"昔人已乘黃鶴去\",\"此地空餘黃鶴樓\",\"黃鶴一去不復返\",\"白雲千載空悠悠\",\"晴川歷歷漢陽樹\",\"芳草萋萋鸚鵡洲\",\"日暮鄉關何處是\",\"煙波江上使人愁\"]\n",
    "\n",
    "print(\"---------------------原始---------------------\")\n",
    "for poem_str in poem:\n",
    "        print(\"|%s|\" % poem_str)\n",
    "print(\"---------------------去除空白符---------------------\")\n",
    "for poem_str in poem:\n",
    "        print(\"|%s|\" % poem_str.strip())      \n",
    "print(\"---------------------置中---------------------\")\n",
    "for poem_str in poem:\n",
    "        print(\"|%s|\" % poem_str.strip().center(10, \"　\"))"
   ]
  },
  {
   "cell_type": "markdown",
   "metadata": {},
   "source": [
    "# 第十二支 python 聖杯挑戰賽\n",
    "while"
   ]
  },
  {
   "cell_type": "code",
   "execution_count": 19,
   "metadata": {},
   "outputs": [],
   "source": [
    "# from random import randint\n",
    "# import time\n",
    "\n",
    "# while (1):\n",
    "#     x = randint(0,1)\n",
    "#     y = randint(0,1)\n",
    "#     print(x, y, sep=' ; ')\n",
    "#     if x + y == 1:\n",
    "#         break\n",
    "#     time.sleep(1)\n",
    "# print('你擲出了聖筊')"
   ]
  },
  {
   "cell_type": "code",
   "execution_count": 168,
   "metadata": {},
   "outputs": [
    {
     "name": "stdout",
     "output_type": "stream",
     "text": [
      "0 ; 1\n",
      "你擲出了聖筊\n"
     ]
    }
   ],
   "source": [
    "from random import randint\n",
    "import time\n",
    "\n",
    "while (1):\n",
    "    x = randint(0,1)\n",
    "    y = randint(0,1)\n",
    "    print(x, y, sep=' ; ')\n",
    "    if x + y == 1:\n",
    "        break\n",
    "    time.sleep(1)\n",
    "print('你擲出了聖筊')"
   ]
  },
  {
   "cell_type": "markdown",
   "metadata": {},
   "source": [
    "# 第十三支 python 滿天星"
   ]
  },
  {
   "cell_type": "code",
   "execution_count": 21,
   "metadata": {},
   "outputs": [],
   "source": [
    "# # 需求\n",
    "# #\n",
    "# # 連續輸出五行 *，每一行星號的數量依次遞增\n",
    "# # *\n",
    "# # **\n",
    "# # ***\n",
    "# # ****\n",
    "# # *****\n",
    "# # 開發步驟\n",
    "# #\n",
    "# # 1> 完成 5 行內容的簡單輸出\n",
    "# # 2> 分析每行內部的 * 應該如何處理？\n",
    "\n",
    "# row = 1\n",
    "\n",
    "# while row <= 5:\n",
    "#     # 每一行印的星星就是和當前的行數是一致的\n",
    "#     # 增加一個小的循環，專門負責當前行中，每一 `列` 的星星顯示\n",
    "#     # 1. 定義一個計數器變數\n",
    "#     col = 1\n",
    "\n",
    "#     # 2. 開始循環\n",
    "\n",
    "#     while col <= row:\n",
    "\n",
    "#         # print(\"%d\" % col)\n",
    "#         print(\"*\", end=\"\")\n",
    "#         col += 1\n",
    "\n",
    "#     # print(\"第 %d 行\" % row)\n",
    "#     # 這行代碼的目的，就是在一行星星輸出完成之後，添加換行！\n",
    "#     print(\"\")\n",
    "#     row += 1"
   ]
  },
  {
   "cell_type": "code",
   "execution_count": 155,
   "metadata": {},
   "outputs": [
    {
     "name": "stdout",
     "output_type": "stream",
     "text": [
      " **********\n",
      "  *********\n",
      "   ********\n",
      "    *******\n",
      "     ******\n",
      "      *****\n",
      "       ****\n",
      "        ***\n",
      "         **\n",
      "          *\n",
      "           \n"
     ]
    }
   ],
   "source": [
    "resultRow = 10\n",
    "\n",
    "\n",
    "row = 1\n",
    "column = 1\n",
    "\n",
    "for j in range(resultRow+1):\n",
    "    for i in range(resultRow+1):\n",
    "        if i <= j:\n",
    "            print(\" \", end=\"\")\n",
    "        else:\n",
    "            print(\"*\", end=\"\")\n",
    "    \n",
    "    print(\"\")"
   ]
  },
  {
   "cell_type": "markdown",
   "metadata": {},
   "source": [
    "# 第十四支 python 年少有為 - 排序邏輯  ***"
   ]
  },
  {
   "cell_type": "code",
   "execution_count": 23,
   "metadata": {},
   "outputs": [],
   "source": [
    "# name = ['老張', '發叔', '李董', '豪哥', '小何']\n",
    "# age = [54, 46, 50, 40, 38]\n",
    "# ans = input('1. 由小到大排序   2. 由大到小排序 : ')\n",
    "# if ans == '1':\n",
    "#     print('由小到大排序:', end ='  ')\n",
    "#     # loop 從1~4\n",
    "#     for loop in range(1, 5):\n",
    "#         #range(0,4) 3 2 1 \n",
    "#         for index in range(0, (5-loop)):\n",
    "#             if age[index] > age[index+1]:\n",
    "#                 print(age)\n",
    "#                 aTemp = age[index]\n",
    "#                 age[index] = age[index+1]\n",
    "#                 age[index+1] = aTemp\n",
    "#                 nTemp = name[index]\n",
    "#                 name[index] = name[index+1]\n",
    "#                 name[index+1] = nTemp\n",
    "#     for i in range(5):\n",
    "#         print('%s:%d' %(name[i], age[i]), end ='   ')\n",
    "#         #end 會直接print 到後面\n",
    "# if ans == '2':\n",
    "#     print('由小到大排序:', end ='  ')\n",
    "#     for loop in range(1, 5):\n",
    "#         for index in range(0, (5-loop)):\n",
    "#             if age[index] < age[index+1]:\n",
    "#                 aTemp = age[index]\n",
    "#                 age[index] = age[index+1]\n",
    "#                 age[index+1] = aTemp?\n",
    "#                 nTemp = name[index]\n",
    "#                 name[index] = name[index+1]\n",
    "#                 name[index+1] = nTemp\n",
    "#     for i in range(5):\n",
    "#         print('%s:%d' %(name[i], age[i]), end ='   ')         \n",
    "            \n"
   ]
  },
  {
   "cell_type": "code",
   "execution_count": 167,
   "metadata": {},
   "outputs": [
    {
     "name": "stdout",
     "output_type": "stream",
     "text": [
      "1. 由小到大排序   2. 由大到小排序 : 1\n",
      "\n",
      "由小到大排序:\n",
      "\n",
      "小華\t50\n",
      "小明\t67\n",
      "小花\t70\n",
      "小王\t88\n",
      "小何\t90\n"
     ]
    }
   ],
   "source": [
    "name = ['小明', '小華', '小花', '小王', '小何']\n",
    "mark = [67, 50, 70, 88, 90]\n",
    "\n",
    "ans = input('1. 由小到大排序   2. 由大到小排序 : ')\n",
    "\n",
    "if ans == '1':\n",
    "    print('\\n由小到大排序:\\n')\n",
    "    for loop in range(1, 5):\n",
    "        for index in range(0, (5-loop)):\n",
    "            if mark[index] > mark[index+1]:\n",
    "                mTemp = mark[index]\n",
    "                mark[index] = mark[index+1]\n",
    "                mark[index+1] = mTemp\n",
    "                \n",
    "                nTemp = name[index]\n",
    "                name[index] = name[index+1]\n",
    "                name[index+1] = nTemp\n",
    "    for i in range(5):\n",
    "        print('%s\\t%d' %(name[i], mark[i]))\n",
    "\n",
    "if ans == '2':\n",
    "    print('由小到大排序:')\n",
    "    for loop in range(1, 5):\n",
    "        for index in range(0, (5-loop)):\n",
    "            if mark[index] < mark[index+1]:\n",
    "                mTemp = mark[index]\n",
    "                mark[index] = mark[index+1]\n",
    "                mark[index+1] = mTemp\n",
    "                \n",
    "                nTemp = name[index]\n",
    "                name[index] = name[index+1]\n",
    "                name[index+1] = nTemp\n",
    "    for i in range(5):\n",
    "        print('%s\\t%d' %(name[i], mark[i]))    "
   ]
  },
  {
   "cell_type": "markdown",
   "metadata": {},
   "source": [
    "part 3\n",
    "# 第十五支 python 回憶童年-九九八十一***\n",
    "def"
   ]
  },
  {
   "cell_type": "code",
   "execution_count": 1,
   "metadata": {},
   "outputs": [],
   "source": [
    "#99乘法表左下\n",
    "def multiple_table():  \n",
    "    row = 1\n",
    "    \n",
    "    while row <= 9:\n",
    "        col = 1\n",
    "        \n",
    "        while col <= row:\n",
    "            print(\"%d * %d = %d\" % (col, row, col * row), end=\"\\t\")\n",
    "            col += 1\n",
    "\n",
    "        print(\"\")\n",
    "\n",
    "        row += 1"
   ]
  },
  {
   "cell_type": "code",
   "execution_count": 2,
   "metadata": {},
   "outputs": [
    {
     "name": "stdout",
     "output_type": "stream",
     "text": [
      "1 * 1 = 1\t\n",
      "1 * 2 = 2\t2 * 2 = 4\t\n",
      "1 * 3 = 3\t2 * 3 = 6\t3 * 3 = 9\t\n",
      "1 * 4 = 4\t2 * 4 = 8\t3 * 4 = 12\t4 * 4 = 16\t\n",
      "1 * 5 = 5\t2 * 5 = 10\t3 * 5 = 15\t4 * 5 = 20\t5 * 5 = 25\t\n",
      "1 * 6 = 6\t2 * 6 = 12\t3 * 6 = 18\t4 * 6 = 24\t5 * 6 = 30\t6 * 6 = 36\t\n",
      "1 * 7 = 7\t2 * 7 = 14\t3 * 7 = 21\t4 * 7 = 28\t5 * 7 = 35\t6 * 7 = 42\t7 * 7 = 49\t\n",
      "1 * 8 = 8\t2 * 8 = 16\t3 * 8 = 24\t4 * 8 = 32\t5 * 8 = 40\t6 * 8 = 48\t7 * 8 = 56\t8 * 8 = 64\t\n",
      "1 * 9 = 9\t2 * 9 = 18\t3 * 9 = 27\t4 * 9 = 36\t5 * 9 = 45\t6 * 9 = 54\t7 * 9 = 63\t8 * 9 = 72\t9 * 9 = 81\t\n"
     ]
    }
   ],
   "source": [
    "multiple_table()"
   ]
  },
  {
   "cell_type": "markdown",
   "metadata": {},
   "source": [
    "# 第十六支 python 投資計算機***"
   ]
  },
  {
   "cell_type": "code",
   "execution_count": 3,
   "metadata": {},
   "outputs": [
    {
     "name": "stdout",
     "output_type": "stream",
     "text": [
      "== 複利率本利和試算 ==\n",
      " 請輸入本金：1\n",
      " 請輸入年利率(％)：1\n",
      " 幾年後領回：1\n",
      "\n",
      "*** 1年後領回本利和：1\n"
     ]
    }
   ],
   "source": [
    "# # vm 本金\n",
    "# # vy 月利率\n",
    "# # vr 幾個月後領回\n",
    "def comp(vm, vy, vr):\n",
    "    return vm*pow(1+vr/12, vy*12)\n",
    "\n",
    "print('== 複利率本利和試算 ==')\n",
    "money = eval(input(' 請輸入本金：'))\n",
    "rate = eval(input(' 請輸入年利率(％)：'))\n",
    "year = eval(input(' 幾年後領回：'))\n",
    "perRate = rate/100\n",
    "print()\n",
    "print('*** %d年後領回本利和：%d' %(year, comp(money,year,perRate)))"
   ]
  },
  {
   "cell_type": "markdown",
   "metadata": {},
   "source": [
    "# 第十七支 python 遞減平方相加器 ***"
   ]
  },
  {
   "cell_type": "code",
   "execution_count": 4,
   "metadata": {},
   "outputs": [
    {
     "name": "stdout",
     "output_type": "stream",
     "text": [
      "n = 2\n",
      "4 + 1 = 5\n"
     ]
    }
   ],
   "source": [
    "def square(n) :\n",
    "    if n <= 0 :\n",
    "        return 0\n",
    "    else :\n",
    "        return n*n + square(n-1)\n",
    "    \n",
    "while True :\n",
    "    n = eval(input('n = '))\n",
    "    if n > 0 and n <= 10 :\n",
    "        break\n",
    "    else :\n",
    "        print('輸入資料不符, 請重新輸入...')\n",
    "\n",
    "sum = square(n)\n",
    "while n > 1 :\n",
    "    print(n*n, end = ' + ' )\n",
    "    n = n-1\n",
    "print('1 = %d' %sum )"
   ]
  },
  {
   "cell_type": "code",
   "execution_count": 32,
   "metadata": {},
   "outputs": [],
   "source": [
    "# x = int(input())\n",
    "# if\n",
    "# listx = list()\n",
    "# for i in range(1,x+1):\n",
    "#     listx.append(i)\n",
    "# num = 0\n",
    "# for i in listx:\n",
    "#     num+=(i*i)\n",
    "    \n",
    "# num \n",
    "    "
   ]
  },
  {
   "cell_type": "markdown",
   "metadata": {},
   "source": [
    "# 第十八支 python 字典查詢機***"
   ]
  },
  {
   "cell_type": "code",
   "execution_count": 34,
   "metadata": {},
   "outputs": [],
   "source": [
    "# def menu():\n",
    "#     print('=' * 40)\n",
    "#     print('\\t 1.新增/修改字典')\n",
    "#     print('\\t 2.刪除字典')\n",
    "#     print('\\t 3.單字查詢')\n",
    "#     print('\\t 4.結束程式')\n",
    "#     print('\\t 請輸入選項(1～4)')\n",
    "\n",
    "# dict1 = {'cat':'貓','dog':'狗'}\n",
    "# while (1):\n",
    "#     menu()\n",
    "#     c = input()\n",
    "#     if(c == '4'):\n",
    "#         break\n",
    "#     elif(c == '1'):\n",
    "#         k = input('請輸入英文單字')\n",
    "#         v = input('請輸入中文解釋')\n",
    "#         dict1[k] = v\n",
    "#     elif(c == '2'):\n",
    "#         k = input('刪除哪個單字？')\n",
    "#         if(k in dict1):\n",
    "#             del dict1[k]\n",
    "#         else:\n",
    "#             print('不存在字典中')\n",
    "#     elif(c == '3'):\n",
    "#         k = input('查詢哪個單字？')\n",
    "#         if(k in dict1):\n",
    "#             print('%s 中文解釋 %s' %( k, dict1.get(k)))\n",
    "#         else:\n",
    "#             print('不存在字典中')\n",
    "#     else:\n",
    "#         print('請輸入選項(1～4)')\n"
   ]
  },
  {
   "cell_type": "markdown",
   "metadata": {},
   "source": [
    "# 最終python combo!!!!!! like it! (記得使用.py存檔)\n",
    "# 用戶查詢系統"
   ]
  },
  {
   "cell_type": "markdown",
   "metadata": {},
   "source": [
    "# 第十九支 python"
   ]
  },
  {
   "cell_type": "code",
   "execution_count": 5,
   "metadata": {},
   "outputs": [],
   "source": [
    "def input_card_info(dict_value, tip_message):\n",
    "\n",
    "    \"\"\"輸入用戶信息\n",
    "    :param dict_value: 字典中原有的值\n",
    "    :param tip_message: 輸入的提示文字\n",
    "    :return: 如果用戶輸入了內容，就返回內容，否則返回字典中原有的值\n",
    "    \"\"\"\n",
    "    # 1. 提示用戶輸入內容\n",
    "    result_str = input(tip_message)\n",
    "\n",
    "    # 2. 針對用戶的輸入進行判斷，如果用戶輸入了內容，直接返回結果\n",
    "    if len(result_str) > 0:\n",
    "\n",
    "        return result_str\n",
    "    # 3. 如果用戶沒有輸入內容，返回 `字典中原有的值`\n",
    "    else:\n",
    "\n",
    "        return dict_value"
   ]
  },
  {
   "cell_type": "markdown",
   "metadata": {},
   "source": [
    "# 第二十支 python"
   ]
  },
  {
   "cell_type": "code",
   "execution_count": 2,
   "metadata": {},
   "outputs": [],
   "source": [
    "\n",
    "import cards_tools\n",
    "\n",
    "while True:\n",
    "\n",
    "    cards_tools.show_menu()\n",
    "\n",
    "    action = input(\"請選擇操作功能：\")\n",
    "\n",
    "    print(\"您選擇的操作是：%s\" % action)\n",
    "\n",
    "    # 根據用戶輸入決定後續的操作\n",
    "    if action in [\"1\", \"2\", \"3\"]:\n",
    "\n",
    "        if action == \"1\":\n",
    "            cards_tools.new_card()\n",
    "\n",
    "        elif action == \"2\":\n",
    "            cards_tools.show_all()\n",
    "\n",
    "        elif action == \"3\":\n",
    "            cards_tools.search_card()\n",
    "\n",
    "    elif action == \"0\":\n",
    "        print(\"歡迎再次使用【用戶管理系統】\")\n",
    "\n",
    "        break\n",
    "    else:\n",
    "        print(\"輸入錯誤，請重新輸入：\")"
   ]
  },
  {
   "cell_type": "markdown",
   "metadata": {},
   "source": [
    "# 第二十一支 python"
   ]
  },
  {
   "cell_type": "code",
   "execution_count": 10,
   "metadata": {},
   "outputs": [
    {
     "ename": "SyntaxError",
     "evalue": "invalid character in identifier (<ipython-input-10-c7b0be6e5e39>, line 12)",
     "output_type": "error",
     "traceback": [
      "\u001b[0;36m  File \u001b[0;32m\"<ipython-input-10-c7b0be6e5e39>\"\u001b[0;36m, line \u001b[0;32m12\u001b[0m\n\u001b[0;31m    print(\"歡迎使用【用戶管理系統】V1.0\")\u001b[0m\n\u001b[0m        ^\u001b[0m\n\u001b[0;31mSyntaxError\u001b[0m\u001b[0;31m:\u001b[0m invalid character in identifier\n"
     ]
    }
   ],
   "source": [
    "import cards_input\n",
    "\n",
    "# 所有用戶記錄的列表\n",
    "card_list = []\n",
    "\n",
    "\n",
    "def show_menu():\n",
    "\n",
    "#     \"\"\"顯示菜單\n",
    "#     \"\"\"\n",
    "    print(\"*\" * 50)\n",
    "    print(\"歡迎使用【用戶管理系統】V1.0\")\n",
    "    print(\"\")\n",
    "    print(\"1. 新建用戶\")\n",
    "    print(\"2. 顯示全部\")\n",
    "    print(\"3. 查詢用戶\")\n",
    "    print(\"\")\n",
    "    print(\"0. 退出系統\")\n",
    "    print(\"*\" * 50)\n",
    "\n",
    "\n",
    "def new_card():\n",
    "\n",
    "#     \"\"\"新建用戶\n",
    "#     \"\"\"\n",
    "    print(\"-\" * 50)\n",
    "    print(\"功能：新建用戶\")\n",
    "\n",
    "    # 1. 提示用戶輸入用戶信息\n",
    "    name = input(\"請輸入姓名：\")\n",
    "    phone = input(\"請輸入電話：\")\n",
    "    line = input(\"請輸入lineID：\")\n",
    "    email = input(\"請輸入郵箱：\")\n",
    "\n",
    "    # 2. 將用戶信息保存到一個字典\n",
    "    card_dict = {\"name\": name,\n",
    "                 \"phone\": phone,\n",
    "                 \"line\": line,\n",
    "                 \"email\": email}\n",
    "\n",
    "    # 3. 將用戶字典添加到用戶列表\n",
    "    card_list.append(card_dict)\n",
    "\n",
    "    # print(card_list)\n",
    "\n",
    "    # 4. 提示添加成功信息\n",
    "    print(\"成功添加 %s 的用戶\" % card_dict[\"name\"])\n",
    "\n",
    "\n",
    "def show_all():\n",
    "\n",
    "#     \"\"\"顯示全部\n",
    "#     \"\"\"\n",
    "    print(\"-\" * 50)\n",
    "    print(\"功能：顯示全部\")\n",
    "\n",
    "    # 1. 判斷是否有用戶記錄\n",
    "    if len(card_list) == 0:\n",
    "        print(\"提示：沒有任何用戶記錄\")\n",
    "\n",
    "        return\n",
    "\n",
    "    # 2. 顯示所有用戶\n",
    "    print(\"姓名\\t\\t電話\\t\\tline\\t\\t郵箱\")\n",
    "    print(\"-\" * 60)\n",
    "\n",
    "    for card_dict in card_list:\n",
    "        print(\"%s\\t\\t%s\\t\\t%s\\t\\t%s\" % (\n",
    "            card_dict[\"name\"],\n",
    "            card_dict[\"phone\"],\n",
    "            card_dict[\"line\"],\n",
    "            card_dict[\"email\"]))\n",
    "\n",
    "    print(\"-\" * 60)\n",
    "\n",
    "\n",
    "def search_card():\n",
    "\n",
    "#     \"\"\"搜索用戶\n",
    "#     \"\"\"\n",
    "    print(\"-\" * 50)\n",
    "    print(\"功能：搜索用戶\")\n",
    "\n",
    "    # 1. 提示要搜索的姓名\n",
    "    find_name = input(\"請輸入要搜索的姓名：\")\n",
    "\n",
    "    # 2. 遍歷字典\n",
    "    for card_dict in card_list:\n",
    "\n",
    "        if card_dict[\"name\"] == find_name:\n",
    "\n",
    "            print(\"姓名\\t\\t電話\\t\\tline\\t\\t郵箱\")\n",
    "            print(\"-\" * 60)\n",
    "\n",
    "            print(\"%s\\t\\t%s\\t\\t%s\\t\\t%s\" % (\n",
    "                card_dict[\"name\"],\n",
    "                card_dict[\"phone\"],\n",
    "                card_dict[\"line\"],\n",
    "                card_dict[\"email\"]))\n",
    "\n",
    "            print(\"-\" * 60)\n",
    "\n",
    "            deal_card(card_dict)\n",
    "\n",
    "            break\n",
    "    else:\n",
    "        print(\"沒有找到 %s\" % find_name)\n",
    "\n",
    "\n",
    "def deal_card(find_dict):\n",
    "\n",
    "#     \"\"\"操作搜索到的用戶字典\n",
    "\n",
    "#     :param find_dict:用戶字典\n",
    "#     \"\"\"\n",
    "\n",
    "    action_str = input(\"請輸入對用戶的操作：1: 修改/ 2: 刪除/ 0: 返回\")\n",
    "\n",
    "    if action_str == \"1\":\n",
    "\n",
    "        find_dict[\"name\"] = cards_input.input_card_info(find_dict[\"name\"],\n",
    "                                                        \"請輸入姓名：\")\n",
    "        find_dict[\"phone\"] = cards_input.input_card_info(find_dict[\"phone\"],\n",
    "                                                         \"請輸入電話：\")\n",
    "        find_dict[\"line\"] = cards_input.input_card_info(find_dict[\"line\"],\n",
    "                                                      \"請輸入lineID：\")\n",
    "        find_dict[\"email\"] = cards_input.input_card_info(find_dict[\"email\"],\n",
    "                                                         \"請輸入郵箱：\")\n",
    "\n",
    "        print(\"%s 的用戶修改成功！\" % find_dict[\"name\"])\n",
    "    elif action_str == \"2\":\n",
    "\n",
    "        card_list.remove(find_dict)\n",
    "\n",
    "        print(\"刪除用戶成功！\")"
   ]
  },
  {
   "cell_type": "code",
   "execution_count": 69,
   "metadata": {},
   "outputs": [
    {
     "name": "stdout",
     "output_type": "stream",
     "text": [
      "1 2 3\n"
     ]
    }
   ],
   "source": [
    "#vim //etc/mysql/mariadb.conf.d/50-server...  找到 /bind-ip 在前面加 # 然後 systemctl restart mysql 再連線\n",
    "\n",
    "\n",
    "\n"
   ]
  },
  {
   "cell_type": "code",
   "execution_count": null,
   "metadata": {},
   "outputs": [],
   "source": []
  }
 ],
 "metadata": {
  "kernelspec": {
   "display_name": "Python 3",
   "language": "python",
   "name": "python3"
  },
  "language_info": {
   "codemirror_mode": {
    "name": "ipython",
    "version": 3
   },
   "file_extension": ".py",
   "mimetype": "text/x-python",
   "name": "python",
   "nbconvert_exporter": "python",
   "pygments_lexer": "ipython3",
   "version": "3.8.3"
  }
 },
 "nbformat": 4,
 "nbformat_minor": 2
}
